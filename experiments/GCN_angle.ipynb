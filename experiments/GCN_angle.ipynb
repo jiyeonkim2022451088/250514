{
 "cells": [
  {
   "cell_type": "code",
   "execution_count": null,
   "id": "78085981",
   "metadata": {},
   "outputs": [],
   "source": [
    "import sys\n",
    "sys.path.append('../')\n",
    "\n",
    "import torch\n",
    "import random\n",
    "import torch.backends.cudnn as cudnn\n",
    "import numpy as np\n",
    "from utils.dataset import GraphDataset_paired, GraphDataset_unpaired\n",
    "from train.train_GCN import train_GCN_comp, train_GCN_sup\n",
    "torch.manual_seed(0)\n",
    "torch.cuda.manual_seed(0)\n",
    "torch.cuda.manual_seed_all(0)\n",
    "np.random.seed(0)\n",
    "cudnn.benchmark = False\n",
    "cudnn.deterministic = True\n",
    "random.seed(0)"
   ]
  },
  {
   "cell_type": "code",
   "execution_count": null,
   "id": "310ad35b",
   "metadata": {},
   "outputs": [],
   "source": [
    "device=\"cuda:0\"\n"
   ]
  },
  {
   "cell_type": "code",
   "execution_count": null,
   "id": "f303b567",
   "metadata": {},
   "outputs": [],
   "source": [
    "data_dir=\"../data/data_angle/\"\n",
    "name=\"../results/GCN_angle/\""
   ]
  },
  {
   "cell_type": "code",
   "execution_count": null,
   "id": "b93d3b47",
   "metadata": {},
   "outputs": [],
   "source": [
    "idx_list_test1=np.random.choice(list(range(1000)), 100, replace=False)\n",
    "idx_list_train=[i for i in range(1000) if i not in idx_list_test1]\n",
    "idx_list_train1_200=np.random.choice(idx_list_train,200, replace=False)\n",
    "\n",
    "idx_list_train1_80=np.random.choice(idx_list_train1_200,80, replace=False)\n",
    "idx_list_train1_40=np.random.choice(idx_list_train1_80,40, replace=False)\n",
    "idx_list_train1_20=np.random.choice(idx_list_train1_40,20, replace=False)\n",
    "idx_list_train1_10=np.random.choice(idx_list_train1_20,10, replace=False)\n",
    "idx_list_train1_5=np.random.choice(idx_list_train1_10,5, replace=False)\n",
    "\n",
    "idx_list_train2_120=[i for i in idx_list_train1_200 if i not in idx_list_train1_80]\n",
    "idx_list_train2_160=[i for i in idx_list_train1_200 if i not in idx_list_train1_40]\n",
    "idx_list_train2_180=[i for i in idx_list_train1_200 if i not in idx_list_train1_20]\n",
    "idx_list_train2_190=[i for i in idx_list_train1_200 if i not in idx_list_train1_10]\n",
    "idx_list_train2_195=[i for i in idx_list_train1_200 if i not in idx_list_train1_5]"
   ]
  },
  {
   "cell_type": "code",
   "execution_count": null,
   "id": "422b17ce",
   "metadata": {},
   "outputs": [],
   "source": [
    "test1=GraphDataset_paired(idx_list_test1, data_dir, device)"
   ]
  },
  {
   "cell_type": "code",
   "execution_count": null,
   "id": "e32e9aeb",
   "metadata": {},
   "outputs": [],
   "source": [
    "train1=GraphDataset_paired(idx_list_train1_20, data_dir, device)\n",
    "train2=GraphDataset_unpaired(idx_list_train2_180, data_dir, device)\n",
    "\n",
    "train_GCN_comp(device, train1, train2, test1, name)"
   ]
  }
 ],
 "metadata": {
  "kernelspec": {
   "display_name": "SR",
   "language": "python",
   "name": "python3"
  },
  "language_info": {
   "codemirror_mode": {
    "name": "ipython",
    "version": 3
   },
   "file_extension": ".py",
   "mimetype": "text/x-python",
   "name": "python",
   "nbconvert_exporter": "python",
   "pygments_lexer": "ipython3",
   "version": "3.9.19"
  }
 },
 "nbformat": 4,
 "nbformat_minor": 5
}
